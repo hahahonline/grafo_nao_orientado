{
  "nbformat": 4,
  "nbformat_minor": 0,
  "metadata": {
    "colab": {
      "provenance": [],
      "authorship_tag": "ABX9TyOlDvVo8CgHP4pSRk54o0q8",
      "include_colab_link": true
    },
    "kernelspec": {
      "name": "python3",
      "display_name": "Python 3"
    },
    "language_info": {
      "name": "python"
    }
  },
  "cells": [
    {
      "cell_type": "markdown",
      "metadata": {
        "id": "view-in-github",
        "colab_type": "text"
      },
      "source": [
        "<a href=\"https://colab.research.google.com/github/hahahonline/grafo_nao_orientado/blob/main/Estrutura_de_dados_Grafos.ipynb\" target=\"_parent\"><img src=\"https://colab.research.google.com/assets/colab-badge.svg\" alt=\"Open In Colab\"/></a>"
      ]
    },
    {
      "cell_type": "code",
      "execution_count": 2,
      "metadata": {
        "colab": {
          "base_uri": "https://localhost:8080/"
        },
        "id": "Es-pHWq-G4uY",
        "outputId": "1dc8b0a2-9b43-4ac7-ddef-2fcf50d983b1"
      },
      "outputs": [
        {
          "output_type": "stream",
          "name": "stdout",
          "text": [
            "Grafo: {'A': ['B'], 'B': ['A', 'C'], 'C': ['B']}\n"
          ]
        }
      ],
      "source": [
        "class Grafo:\n",
        "    def __init__(self):\n",
        "        self.grafo = {}  # Usamos um dicionário para representar o grafo\n",
        "\n",
        "    def adicionar_vertice(self, vertice):\n",
        "        # Adiciona um vértice ao grafo\n",
        "        if vertice not in self.grafo:\n",
        "            self.grafo[vertice] = []\n",
        "\n",
        "    def adicionar_aresta(self, vertice1, vertice2):\n",
        "        # Adiciona uma aresta entre dois vértices (não direcionado)\n",
        "        if vertice1 in self.grafo and vertice2 in self.grafo:\n",
        "            self.grafo[vertice1].append(vertice2)\n",
        "            self.grafo[vertice2].append(vertice1)\n",
        "\n",
        "    def vizinhos(self, vertice):\n",
        "        # Retorna os vizinhos de um vértice\n",
        "        if vertice in self.grafo:\n",
        "            return self.grafo[vertice]\n",
        "        else:\n",
        "            return []\n",
        "\n",
        "    def __str__(self):\n",
        "        return str(self.grafo)\n",
        "\n",
        "# Exemplo de uso:\n",
        "g = Grafo()\n",
        "g.adicionar_vertice('A')\n",
        "g.adicionar_vertice('B')\n",
        "g.adicionar_vertice('C')\n",
        "g.adicionar_aresta('A', 'B')\n",
        "g.adicionar_aresta('B', 'C')\n",
        "print(\"Grafo:\", g)\n",
        "\n",
        "\n",
        "#A, B e C são os nós (ou vértices) do grafo.\n",
        "\n",
        "#'A': ['B'] significa que o nó 'A' está conectado ao nó 'B' por uma aresta. Isso é representado como um dicionário em Python."
      ]
    }
  ]
}